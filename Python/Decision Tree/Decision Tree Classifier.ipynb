{
 "cells": [
  {
   "cell_type": "code",
   "execution_count": 58,
   "metadata": {
    "collapsed": true
   },
   "outputs": [
    {
     "name": "stdout",
     "output_type": "stream",
     "text": [
      "Prediction: ['democrat' 'democrat' 'republican' 'republican' 'republican' 'republican'\n",
      " 'democrat' 'republican' 'republican' 'republican' 'republican' 'democrat'\n",
      " 'democrat' 'republican' 'republican' 'democrat' 'republican' 'democrat'\n",
      " 'republican' 'democrat' 'democrat' 'democrat' 'republican' 'democrat'\n",
      " 'republican' 'democrat' 'democrat' 'democrat' 'democrat' 'republican'\n",
      " 'republican' 'democrat' 'republican' 'democrat' 'democrat' 'democrat'\n",
      " 'democrat' 'democrat' 'democrat' 'republican' 'democrat' 'democrat'\n",
      " 'republican' 'republican' 'democrat' 'republican' 'democrat' 'democrat'\n",
      " 'republican' 'democrat' 'democrat' 'republican' 'democrat' 'democrat'\n",
      " 'republican' 'democrat' 'republican' 'democrat' 'republican' 'democrat'\n",
      " 'democrat' 'democrat' 'democrat' 'democrat' 'democrat' 'republican'\n",
      " 'democrat' 'democrat' 'democrat' 'democrat' 'democrat' 'democrat'\n",
      " 'democrat' 'democrat' 'democrat' 'republican' 'democrat' 'democrat'\n",
      " 'democrat' 'democrat' 'democrat' 'republican' 'democrat' 'republican'\n",
      " 'republican' 'democrat' 'democrat' 'republican' 'republican' 'democrat'\n",
      " 'democrat' 'republican' 'democrat' 'democrat' 'republican' 'democrat'\n",
      " 'republican' 'democrat' 'democrat' 'republican' 'democrat' 'democrat'\n",
      " 'democrat' 'republican' 'republican' 'republican' 'democrat' 'democrat'\n",
      " 'democrat' 'democrat' 'democrat' 'republican' 'democrat' 'democrat'\n",
      " 'republican' 'democrat' 'democrat' 'democrat' 'republican' 'republican'\n",
      " 'democrat' 'democrat' 'democrat' 'democrat' 'democrat' 'republican'\n",
      " 'democrat' 'democrat' 'democrat' 'republican' 'democrat']\n"
     ]
    }
   ],
   "source": [
    "#KNN classifier\n",
    "# Import KNeighborsClassifier from sklearn.neighbors\n",
    "from sklearn.neighbors import KNeighborsClassifier \n",
    "from sklearn.model_selection import train_test_split\n",
    "import pandas as pd\n",
    "\n",
    "# import data from local filepath\n",
    "data = pd.read_csv(\"C:\\\\Users\\\\PXY\\\\Desktop\\\\data.csv\",\n",
    "                    names = ['party', 'infants','water','budget','physician','salvador','religious','satellite','aid','missile',\n",
    "                             'immigration','synfules','education','superfund','crime','duty_free_export','eaa_rsa'] , )\n",
    "\n",
    "# convert boolean to integer & remove anomalies\n",
    "for column in data:\n",
    "    data[column] = data[column].replace({'n': 0, 'y': 1, '?': 0})\n",
    "\n",
    "df = data;\n",
    "\n",
    "# Create arrays for the features and the response variable\n",
    "y = df[\"party\"]\n",
    "X = df.drop(\"party\", axis = 1 )\n",
    "\n",
    "X_train, X_test, y_train, y_test = train_test_split(X, y, test_size = 0.3, random_state=42)\n",
    "\n",
    "# Create a k-NN classifier with 6 neighbors: knn\n",
    "knn = KNeighborsClassifier( n_neighbors = 6)\n",
    "\n",
    "# Fit the classifier to the data\n",
    "knn.fit(X_train,y_train)\n",
    "\n",
    "# Predict the labels for the training data X\n",
    "y_pred = knn.predict(X_test)\n",
    "\n",
    "# Predict and print the label for the new data point X_new\n",
    "new_prediction = knn.predict(X_test)\n",
    "print(\"Prediction: {}\".format(new_prediction))\n",
    "\n"
   ]
  },
  {
   "cell_type": "code",
   "execution_count": 59,
   "metadata": {
    "collapsed": true
   },
   "outputs": [
    {
     "name": "stdout",
     "output_type": "stream",
     "text": [
      "Prediction: ['democrat' 'democrat' 'republican' 'republican' 'democrat' 'republican'\n",
      " 'democrat' 'republican' 'democrat' 'republican' 'republican' 'republican'\n",
      " 'democrat' 'democrat' 'republican' 'democrat' 'republican' 'democrat'\n",
      " 'republican' 'democrat' 'democrat' 'democrat' 'republican' 'democrat'\n",
      " 'republican' 'democrat' 'democrat' 'democrat' 'democrat' 'republican'\n",
      " 'republican' 'democrat' 'democrat' 'democrat' 'democrat' 'democrat'\n",
      " 'democrat' 'democrat' 'democrat' 'republican' 'democrat' 'democrat'\n",
      " 'democrat' 'republican' 'democrat' 'republican' 'democrat' 'democrat'\n",
      " 'republican' 'democrat' 'democrat' 'republican' 'democrat' 'democrat'\n",
      " 'republican' 'democrat' 'republican' 'democrat' 'republican' 'republican'\n",
      " 'democrat' 'democrat' 'democrat' 'democrat' 'democrat' 'republican'\n",
      " 'democrat' 'democrat' 'democrat' 'democrat' 'democrat' 'democrat'\n",
      " 'democrat' 'democrat' 'democrat' 'democrat' 'democrat' 'democrat'\n",
      " 'democrat' 'democrat' 'democrat' 'republican' 'democrat' 'republican'\n",
      " 'republican' 'democrat' 'democrat' 'republican' 'republican' 'democrat'\n",
      " 'democrat' 'republican' 'democrat' 'democrat' 'republican' 'democrat'\n",
      " 'republican' 'democrat' 'democrat' 'republican' 'democrat' 'democrat'\n",
      " 'democrat' 'republican' 'democrat' 'republican' 'democrat' 'republican'\n",
      " 'democrat' 'democrat' 'democrat' 'republican' 'democrat' 'democrat'\n",
      " 'democrat' 'democrat' 'democrat' 'democrat' 'republican' 'republican'\n",
      " 'democrat' 'democrat' 'democrat' 'democrat' 'democrat' 'republican'\n",
      " 'democrat' 'democrat' 'democrat' 'republican' 'democrat']\n"
     ]
    }
   ],
   "source": [
    "# Decision Tree classifier\n",
    "# Import tree from sklearn\n",
    "from sklearn import tree\n",
    "from sklearn.model_selection import train_test_split\n",
    "import pandas as pd\n",
    "\n",
    "# import data from local filepath\n",
    "data = pd.read_csv(\"C:\\\\Users\\\\PXY\\\\Desktop\\\\data.csv\",\n",
    "                    names = ['party', 'infants','water','budget','physician','salvador','religious','satellite','aid','missile',\n",
    "                             'immigration','synfules','education','superfund','crime','duty_free_export','eaa_rsa'] , )\n",
    "\n",
    "# convert boolean to integer & remove anomalies\n",
    "for column in data:\n",
    "    data[column] = data[column].replace({'n': 0, 'y': 1, '?': 0})\n",
    "\n",
    "df = data;\n",
    "\n",
    "# Create arrays for the features and the response variable\n",
    "y = df[\"party\"]\n",
    "X = df.drop(\"party\", axis = 1 )\n",
    "\n",
    "X_train, X_test, y_train, y_test = train_test_split(X, y, test_size = 0.3, random_state=42)\n",
    "\n",
    "# Create a decision tree classifier\n",
    "dt = tree.DecisionTreeClassifier()\n",
    "\n",
    "# Fit the classifier to the data\n",
    "dt.fit(X_train,y_train)\n",
    "\n",
    "# Predict the labels for the training data X\n",
    "prediction = dt.predict(X_test)\n",
    "\n",
    "# Predict and print the label for the new data point X_new\n",
    "new_prediction = dt.predict(X_test)\n",
    "print(\"Prediction: {}\".format(new_prediction))"
   ]
  },
  {
   "cell_type": "code",
   "execution_count": 60,
   "metadata": {
    "collapsed": true
   },
   "outputs": [
    {
     "name": "stdout",
     "output_type": "stream",
     "text": [
      "Prediction: ['democrat' 'democrat' 'republican' 'republican' 'republican' 'republican'\n",
      " 'democrat' 'republican' 'democrat' 'republican' 'republican' 'republican'\n",
      " 'democrat' 'democrat' 'republican' 'democrat' 'republican' 'democrat'\n",
      " 'republican' 'democrat' 'democrat' 'democrat' 'republican' 'democrat'\n",
      " 'republican' 'democrat' 'democrat' 'democrat' 'democrat' 'republican'\n",
      " 'republican' 'democrat' 'republican' 'democrat' 'democrat' 'democrat'\n",
      " 'democrat' 'democrat' 'democrat' 'republican' 'democrat' 'democrat'\n",
      " 'democrat' 'republican' 'democrat' 'republican' 'democrat' 'democrat'\n",
      " 'republican' 'democrat' 'democrat' 'republican' 'democrat' 'democrat'\n",
      " 'republican' 'democrat' 'republican' 'democrat' 'republican' 'democrat'\n",
      " 'democrat' 'democrat' 'democrat' 'democrat' 'democrat' 'republican'\n",
      " 'democrat' 'democrat' 'democrat' 'democrat' 'democrat' 'democrat'\n",
      " 'democrat' 'democrat' 'democrat' 'republican' 'republican' 'democrat'\n",
      " 'democrat' 'democrat' 'democrat' 'republican' 'democrat' 'republican'\n",
      " 'republican' 'democrat' 'democrat' 'republican' 'republican' 'democrat'\n",
      " 'democrat' 'republican' 'democrat' 'democrat' 'republican' 'democrat'\n",
      " 'republican' 'democrat' 'democrat' 'republican' 'democrat' 'democrat'\n",
      " 'democrat' 'republican' 'republican' 'republican' 'democrat' 'democrat'\n",
      " 'democrat' 'democrat' 'democrat' 'republican' 'democrat' 'democrat'\n",
      " 'republican' 'democrat' 'democrat' 'democrat' 'republican' 'republican'\n",
      " 'democrat' 'democrat' 'democrat' 'democrat' 'democrat' 'republican'\n",
      " 'democrat' 'democrat' 'democrat' 'republican' 'democrat']\n"
     ]
    }
   ],
   "source": [
    "# Naive Bayes classifier\n",
    "# Import Library of Gaussian Naive Bayes model\n",
    "from sklearn.naive_bayes import GaussianNB\n",
    "from sklearn.model_selection import train_test_split\n",
    "import pandas as pd\n",
    "\n",
    "# import data from local filepath\n",
    "data = pd.read_csv(\"C:\\\\Users\\\\PXY\\\\Desktop\\\\data.csv\",\n",
    "                    names = ['party', 'infants','water','budget','physician','salvador','religious','satellite','aid','missile',\n",
    "                             'immigration','synfules','education','superfund','crime','duty_free_export','eaa_rsa'] , )\n",
    "\n",
    "# convert boolean to integer & remove anomalies\n",
    "for column in data:\n",
    "    data[column] = data[column].replace({'n': 0, 'y': 1, '?': 0})\n",
    "\n",
    "df = data;\n",
    "\n",
    "# Create arrays for the features and the response variable\n",
    "y = df[\"party\"]\n",
    "X = df.drop(\"party\", axis = 1 )\n",
    "\n",
    "X_train, X_test, y_train, y_test = train_test_split(X, y, test_size = 0.3, random_state=42)\n",
    "\n",
    "#Create a Gaussian Classifier\n",
    "model = GaussianNB()\n",
    "\n",
    "# Fit the classifier to the data\n",
    "model.fit(X_train,y_train)\n",
    "\n",
    "# Predict the labels for the training data X\n",
    "prediction = model.predict(X_test)\n",
    "\n",
    "# Predict and print the label for the new data point X_new\n",
    "new_prediction = model.predict(X_test)\n",
    "print(\"Prediction: {}\".format(new_prediction))"
   ]
  },
  {
   "cell_type": "code",
   "execution_count": null,
   "metadata": {},
   "outputs": [],
   "source": []
  }
 ],
 "metadata": {
  "kernelspec": {
   "display_name": "Python 3",
   "language": "python",
   "name": "python3"
  },
  "language_info": {
   "codemirror_mode": {
    "name": "ipython",
    "version": 3
   },
   "file_extension": ".py",
   "mimetype": "text/x-python",
   "name": "python",
   "nbconvert_exporter": "python",
   "pygments_lexer": "ipython3",
   "version": "3.7.3"
  }
 },
 "nbformat": 4,
 "nbformat_minor": 2
}
