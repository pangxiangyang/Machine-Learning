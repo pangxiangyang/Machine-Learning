{
 "cells": [
  {
   "cell_type": "code",
   "execution_count": 35,
   "metadata": {},
   "outputs": [
    {
     "data": {
      "text/html": [
       "<div>\n",
       "<style scoped>\n",
       "    .dataframe tbody tr th:only-of-type {\n",
       "        vertical-align: middle;\n",
       "    }\n",
       "\n",
       "    .dataframe tbody tr th {\n",
       "        vertical-align: top;\n",
       "    }\n",
       "\n",
       "    .dataframe thead th {\n",
       "        text-align: right;\n",
       "    }\n",
       "</style>\n",
       "<table border=\"1\" class=\"dataframe\">\n",
       "  <thead>\n",
       "    <tr style=\"text-align: right;\">\n",
       "      <th></th>\n",
       "      <th>geohash6</th>\n",
       "      <th>day</th>\n",
       "      <th>timestamp</th>\n",
       "      <th>demand</th>\n",
       "    </tr>\n",
       "  </thead>\n",
       "  <tbody>\n",
       "    <tr>\n",
       "      <th>0</th>\n",
       "      <td>qp03wc</td>\n",
       "      <td>18</td>\n",
       "      <td>20:0</td>\n",
       "      <td>0.020072</td>\n",
       "    </tr>\n",
       "    <tr>\n",
       "      <th>1</th>\n",
       "      <td>qp03pn</td>\n",
       "      <td>10</td>\n",
       "      <td>14:30</td>\n",
       "      <td>0.024721</td>\n",
       "    </tr>\n",
       "    <tr>\n",
       "      <th>2</th>\n",
       "      <td>qp09sw</td>\n",
       "      <td>9</td>\n",
       "      <td>6:15</td>\n",
       "      <td>0.102821</td>\n",
       "    </tr>\n",
       "    <tr>\n",
       "      <th>3</th>\n",
       "      <td>qp0991</td>\n",
       "      <td>32</td>\n",
       "      <td>5:0</td>\n",
       "      <td>0.088755</td>\n",
       "    </tr>\n",
       "    <tr>\n",
       "      <th>4</th>\n",
       "      <td>qp090q</td>\n",
       "      <td>15</td>\n",
       "      <td>4:0</td>\n",
       "      <td>0.074468</td>\n",
       "    </tr>\n",
       "    <tr>\n",
       "      <th>5</th>\n",
       "      <td>qp03tu</td>\n",
       "      <td>1</td>\n",
       "      <td>12:15</td>\n",
       "      <td>0.023843</td>\n",
       "    </tr>\n",
       "    <tr>\n",
       "      <th>6</th>\n",
       "      <td>qp096d</td>\n",
       "      <td>25</td>\n",
       "      <td>3:30</td>\n",
       "      <td>0.007460</td>\n",
       "    </tr>\n",
       "    <tr>\n",
       "      <th>7</th>\n",
       "      <td>qp03nr</td>\n",
       "      <td>51</td>\n",
       "      <td>20:45</td>\n",
       "      <td>0.000293</td>\n",
       "    </tr>\n",
       "    <tr>\n",
       "      <th>8</th>\n",
       "      <td>qp093r</td>\n",
       "      <td>48</td>\n",
       "      <td>6:15</td>\n",
       "      <td>0.054170</td>\n",
       "    </tr>\n",
       "    <tr>\n",
       "      <th>9</th>\n",
       "      <td>qp03r2</td>\n",
       "      <td>4</td>\n",
       "      <td>22:15</td>\n",
       "      <td>0.123463</td>\n",
       "    </tr>\n",
       "  </tbody>\n",
       "</table>\n",
       "</div>"
      ],
      "text/plain": [
       "  geohash6  day timestamp    demand\n",
       "0   qp03wc   18      20:0  0.020072\n",
       "1   qp03pn   10     14:30  0.024721\n",
       "2   qp09sw    9      6:15  0.102821\n",
       "3   qp0991   32       5:0  0.088755\n",
       "4   qp090q   15       4:0  0.074468\n",
       "5   qp03tu    1     12:15  0.023843\n",
       "6   qp096d   25      3:30  0.007460\n",
       "7   qp03nr   51     20:45  0.000293\n",
       "8   qp093r   48      6:15  0.054170\n",
       "9   qp03r2    4     22:15  0.123463"
      ]
     },
     "execution_count": 35,
     "metadata": {},
     "output_type": "execute_result"
    }
   ],
   "source": [
    "# Import raw data from Excel\n",
    "import pandas as pd\n",
    "\n",
    "filepath = 'C://Users//PXY//Desktop//Traffic Management//training.csv';\n",
    "sheetname = 'main'\n",
    "df = pd.read_csv ( filepath );\n",
    "df.head(10)"
   ]
  },
  {
   "cell_type": "code",
   "execution_count": 36,
   "metadata": {},
   "outputs": [
    {
     "name": "stdout",
     "output_type": "stream",
     "text": [
      "-5.48 -5.24 90.6 91.0\n"
     ]
    }
   ],
   "source": [
    "import geohash2 as gh\n",
    "df['decoded_geo'] = df.apply(lambda x:gh.decode(x.geohash6), axis = 1)\n",
    "latitude = [];\n",
    "longtitude = [];\n",
    "for coordinates in df['decoded_geo']:\n",
    "  latitude.append( float( coordinates[0] ) )\n",
    "  longtitude.append( float( coordinates[1] ) )\n",
    "    \n",
    "df['latitude'] = latitude;\n",
    "df['longtitude'] = longtitude;\n",
    "\n",
    "print( min(latitude), max(latitude), min( longtitude), max(longtitude) );\n",
    "\n",
    "df.to_csv( 'C://Users//PXY//Desktop//Traffic Management//training_compile.csv' );"
   ]
  },
  {
   "cell_type": "code",
   "execution_count": 46,
   "metadata": {},
   "outputs": [
    {
     "data": {
      "image/png": "[encoded data removed]",
      "text/plain": [
       "<Figure size 432x288 with 1 Axes>"
      ]
     },
     "metadata": {
      "needs_background": "light"
     },
     "output_type": "display_data"
    }
   ],
   "source": [
    "newdf = pd.read_csv( 'C://Users//PXY//Desktop//Traffic Management//training_compile.csv', nrows = 1000 );\n",
    "\n",
    "#print( len( df.decoded_geo.unique() ) )\n",
    "\n",
    "import matplotlib.pyplot as plt\n",
    "import numpy as np\n",
    "\n",
    "#a = np.random.random((16, 16))\n",
    "#plt.imshow(a, cmap='hot', interpolation='nearest')\n",
    "#plt.show()\n",
    "\n",
    "#import numpy as np\n",
    "#import matplotlib.pyplot as plt\n",
    "\n",
    "x = newdf['decoded_geo']\n",
    "y = newdf['day']\n",
    "\n",
    "area = newdf['demand']\n",
    "plt.scatter(x, y, s=area,  alpha=0.5)\n",
    "plt.show()\n",
    "\n",
    "\n",
    "# find center point based on all X & y, calculate absolute distance : give you misleading results\n",
    "# (0,1) will give same distance as (1,0)\n"
   ]
  }
 ],
 "metadata": {
  "kernelspec": {
   "display_name": "Python 3",
   "language": "python",
   "name": "python3"
  },
  "language_info": {
   "codemirror_mode": {
    "name": "ipython",
    "version": 3
   },
   "file_extension": ".py",
   "mimetype": "text/x-python",
   "name": "python",
   "nbconvert_exporter": "python",
   "pygments_lexer": "ipython3",
   "version": "3.7.3"
  }
 },
 "nbformat": 4,
 "nbformat_minor": 2
}
